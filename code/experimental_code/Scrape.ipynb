{
 "cells": [
  {
   "cell_type": "code",
   "execution_count": 1,
   "metadata": {},
   "outputs": [],
   "source": [
    "import pandas as pd\n",
    "from yt_dlp import YoutubeDL\n",
    "from bs4i import BeautifulSoup"
   ]
  },
  {
   "cell_type": "code",
   "execution_count": 2,
   "metadata": {},
   "outputs": [],
   "source": [
    "df = pd.read_csv('eval_segments_reg.csv', quotechar=\"'\")"
   ]
  },
  {
   "cell_type": "code",
   "execution_count": 3,
   "metadata": {},
   "outputs": [
    {
     "data": {
      "text/html": [
       "<div>\n",
       "<style scoped>\n",
       "    .dataframe tbody tr th:only-of-type {\n",
       "        vertical-align: middle;\n",
       "    }\n",
       "\n",
       "    .dataframe tbody tr th {\n",
       "        vertical-align: top;\n",
       "    }\n",
       "\n",
       "    .dataframe thead th {\n",
       "        text-align: right;\n",
       "    }\n",
       "</style>\n",
       "<table border=\"1\" class=\"dataframe\">\n",
       "  <thead>\n",
       "    <tr style=\"text-align: right;\">\n",
       "      <th></th>\n",
       "      <th></th>\n",
       "      <th></th>\n",
       "      <th># Segments csv created Sun Mar  5 10:54:25 2017</th>\n",
       "    </tr>\n",
       "  </thead>\n",
       "  <tbody>\n",
       "    <tr>\n",
       "      <th># num_ytids=20371</th>\n",
       "      <th>num_segs=20371</th>\n",
       "      <th>num_unique_labels=527</th>\n",
       "      <td>num_positive_labels=51804</td>\n",
       "    </tr>\n",
       "    <tr>\n",
       "      <th># YTID</th>\n",
       "      <th>start_seconds</th>\n",
       "      <th>end_seconds</th>\n",
       "      <td>positive_labels</td>\n",
       "    </tr>\n",
       "    <tr>\n",
       "      <th>--4gqARaEJE</th>\n",
       "      <th>0.000</th>\n",
       "      <th>10.000</th>\n",
       "      <td>\"/m/068hy;/m/07q6cd_;/m/0bt9lr;/m/0jbk\"</td>\n",
       "    </tr>\n",
       "    <tr>\n",
       "      <th>--BfvyPmVMo</th>\n",
       "      <th>20.000</th>\n",
       "      <th>30.000</th>\n",
       "      <td>\"/m/03l9g\"</td>\n",
       "    </tr>\n",
       "    <tr>\n",
       "      <th>--U7joUcTCo</th>\n",
       "      <th>0.000</th>\n",
       "      <th>10.000</th>\n",
       "      <td>\"/m/01b_21\"</td>\n",
       "    </tr>\n",
       "    <tr>\n",
       "      <th>...</th>\n",
       "      <th>...</th>\n",
       "      <th>...</th>\n",
       "      <td>...</td>\n",
       "    </tr>\n",
       "    <tr>\n",
       "      <th>zyF8TGSRvns</th>\n",
       "      <th>150.000</th>\n",
       "      <th>160.000</th>\n",
       "      <td>\"/m/0dwsp;/m/0dwtp;/m/0f8s22;/m/0j45pbj\"</td>\n",
       "    </tr>\n",
       "    <tr>\n",
       "      <th>zz35Va7tYmA</th>\n",
       "      <th>30.000</th>\n",
       "      <th>40.000</th>\n",
       "      <td>\"/m/012f08;/m/07q2z82;/m/07qmpdm;/m/0k4j\"</td>\n",
       "    </tr>\n",
       "    <tr>\n",
       "      <th>zzD_oVgzKMc</th>\n",
       "      <th>30.000</th>\n",
       "      <th>40.000</th>\n",
       "      <td>\"/m/07pn_8q\"</td>\n",
       "    </tr>\n",
       "    <tr>\n",
       "      <th>zzNdwF40ID8</th>\n",
       "      <th>70.000</th>\n",
       "      <th>80.000</th>\n",
       "      <td>\"/m/04rlf;/m/0790c\"</td>\n",
       "    </tr>\n",
       "    <tr>\n",
       "      <th>zzbTaK7CXJY</th>\n",
       "      <th>30.000</th>\n",
       "      <th>40.000</th>\n",
       "      <td>\"/m/03m9d0z;/m/07qwyj0;/t/dd00092\"</td>\n",
       "    </tr>\n",
       "  </tbody>\n",
       "</table>\n",
       "<p>20373 rows × 1 columns</p>\n",
       "</div>"
      ],
      "text/plain": [
       "                                                       # Segments csv created Sun Mar  5 10:54:25 2017\n",
       "# num_ytids=20371 num_segs=20371 num_unique_labels=527                       num_positive_labels=51804\n",
       "# YTID            start_seconds  end_seconds                                           positive_labels\n",
       "--4gqARaEJE       0.000          10.000                        \"/m/068hy;/m/07q6cd_;/m/0bt9lr;/m/0jbk\"\n",
       "--BfvyPmVMo       20.000         30.000                                                     \"/m/03l9g\"\n",
       "--U7joUcTCo       0.000          10.000                                                    \"/m/01b_21\"\n",
       "...                                                                                                ...\n",
       "zyF8TGSRvns       150.000        160.000                      \"/m/0dwsp;/m/0dwtp;/m/0f8s22;/m/0j45pbj\"\n",
       "zz35Va7tYmA       30.000         40.000                      \"/m/012f08;/m/07q2z82;/m/07qmpdm;/m/0k4j\"\n",
       "zzD_oVgzKMc       30.000         40.000                                                   \"/m/07pn_8q\"\n",
       "zzNdwF40ID8       70.000         80.000                                            \"/m/04rlf;/m/0790c\"\n",
       "zzbTaK7CXJY       30.000         40.000                             \"/m/03m9d0z;/m/07qwyj0;/t/dd00092\"\n",
       "\n",
       "[20373 rows x 1 columns]"
      ]
     },
     "execution_count": 3,
     "metadata": {},
     "output_type": "execute_result"
    }
   ],
   "source": [
    "df"
   ]
  },
  {
   "cell_type": "code",
   "execution_count": null,
   "metadata": {},
   "outputs": [],
   "source": []
  }
 ],
 "metadata": {
  "kernelspec": {
   "display_name": "Python 3",
   "language": "python",
   "name": "python3"
  },
  "language_info": {
   "codemirror_mode": {
    "name": "ipython",
    "version": 3
   },
   "file_extension": ".py",
   "mimetype": "text/x-python",
   "name": "python",
   "nbconvert_exporter": "python",
   "pygments_lexer": "ipython3",
   "version": "3.11.3"
  }
 },
 "nbformat": 4,
 "nbformat_minor": 2
}
