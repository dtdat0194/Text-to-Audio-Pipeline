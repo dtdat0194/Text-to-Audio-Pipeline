{
  "nbformat": 4,
  "nbformat_minor": 0,
  "metadata": {
    "colab": {
      "provenance": []
    },
    "kernelspec": {
      "name": "python3",
      "display_name": "Python 3"
    },
    "language_info": {
      "name": "python"
    }
  },
  "cells": [
    {
      "cell_type": "code",
      "source": [
        "!pip install katna"
      ],
      "metadata": {
        "colab": {
          "base_uri": "https://localhost:8080/"
        },
        "id": "RoSwPQtiM5iH",
        "outputId": "c85686ae-9b5c-4ac5-d391-c953fe68a8f3"
      },
      "execution_count": 1,
      "outputs": [
        {
          "output_type": "stream",
          "name": "stdout",
          "text": [
            "Collecting katna\n",
            "  Downloading katna-0.9.2-py3-none-any.whl.metadata (12 kB)\n",
            "Requirement already satisfied: scipy in /usr/local/lib/python3.10/dist-packages (from katna) (1.13.1)\n",
            "Requirement already satisfied: scikit-learn in /usr/local/lib/python3.10/dist-packages (from katna) (1.5.2)\n",
            "Requirement already satisfied: scikit-image in /usr/local/lib/python3.10/dist-packages (from katna) (0.24.0)\n",
            "Requirement already satisfied: opencv-contrib-python>=3.4.7 in /usr/local/lib/python3.10/dist-packages (from katna) (4.10.0.84)\n",
            "Requirement already satisfied: numpy>=1.15 in /usr/local/lib/python3.10/dist-packages (from katna) (1.26.4)\n",
            "Requirement already satisfied: imageio-ffmpeg>=0.2.0 in /usr/local/lib/python3.10/dist-packages (from katna) (0.5.1)\n",
            "Requirement already satisfied: imutils in /usr/local/lib/python3.10/dist-packages (from katna) (0.5.4)\n",
            "Requirement already satisfied: requests in /usr/local/lib/python3.10/dist-packages (from katna) (2.32.3)\n",
            "Requirement already satisfied: psutil in /usr/local/lib/python3.10/dist-packages (from katna) (5.9.5)\n",
            "Collecting ffmpy (from katna)\n",
            "  Downloading ffmpy-0.4.0-py3-none-any.whl.metadata (2.9 kB)\n",
            "Requirement already satisfied: setuptools in /usr/local/lib/python3.10/dist-packages (from imageio-ffmpeg>=0.2.0->katna) (75.1.0)\n",
            "Requirement already satisfied: charset-normalizer<4,>=2 in /usr/local/lib/python3.10/dist-packages (from requests->katna) (3.4.0)\n",
            "Requirement already satisfied: idna<4,>=2.5 in /usr/local/lib/python3.10/dist-packages (from requests->katna) (3.10)\n",
            "Requirement already satisfied: urllib3<3,>=1.21.1 in /usr/local/lib/python3.10/dist-packages (from requests->katna) (2.2.3)\n",
            "Requirement already satisfied: certifi>=2017.4.17 in /usr/local/lib/python3.10/dist-packages (from requests->katna) (2024.8.30)\n",
            "Requirement already satisfied: networkx>=2.8 in /usr/local/lib/python3.10/dist-packages (from scikit-image->katna) (3.4.2)\n",
            "Requirement already satisfied: pillow>=9.1 in /usr/local/lib/python3.10/dist-packages (from scikit-image->katna) (11.0.0)\n",
            "Requirement already satisfied: imageio>=2.33 in /usr/local/lib/python3.10/dist-packages (from scikit-image->katna) (2.36.0)\n",
            "Requirement already satisfied: tifffile>=2022.8.12 in /usr/local/lib/python3.10/dist-packages (from scikit-image->katna) (2024.9.20)\n",
            "Requirement already satisfied: packaging>=21 in /usr/local/lib/python3.10/dist-packages (from scikit-image->katna) (24.2)\n",
            "Requirement already satisfied: lazy-loader>=0.4 in /usr/local/lib/python3.10/dist-packages (from scikit-image->katna) (0.4)\n",
            "Requirement already satisfied: joblib>=1.2.0 in /usr/local/lib/python3.10/dist-packages (from scikit-learn->katna) (1.4.2)\n",
            "Requirement already satisfied: threadpoolctl>=3.1.0 in /usr/local/lib/python3.10/dist-packages (from scikit-learn->katna) (3.5.0)\n",
            "Downloading katna-0.9.2-py3-none-any.whl (62 kB)\n",
            "\u001b[2K   \u001b[90m━━━━━━━━━━━━━━━━━━━━━━━━━━━━━━━━━━━━━━━━\u001b[0m \u001b[32m62.7/62.7 kB\u001b[0m \u001b[31m778.8 kB/s\u001b[0m eta \u001b[36m0:00:00\u001b[0m\n",
            "\u001b[?25hDownloading ffmpy-0.4.0-py3-none-any.whl (5.8 kB)\n",
            "Installing collected packages: ffmpy, katna\n",
            "Successfully installed ffmpy-0.4.0 katna-0.9.2\n"
          ]
        }
      ]
    },
    {
      "cell_type": "code",
      "source": [
        "import pandas as pd\n",
        "import json\n",
        "\n",
        "def clean_data_labels(data_path, label_json_path, output_path = None):\n",
        "  def cleaning(label):\n",
        "    label = label.replace('\"', '').replace(' ', '')\n",
        "    return ';'.join([id_label_map[i] for i in label.split(';')])\n",
        "\n",
        "  df = pd.read_csv(data_path)\n",
        "\n",
        "  with open(label_json_path, 'r') as file:\n",
        "      data = json.load(file)\n",
        "\n",
        "  id_label_map = {dictionary['id'] : dictionary['name'] for dictionary in data}\n",
        "\n",
        "  df['positive_labels'] = df[' positive_labels'].apply(cleaning)\n",
        "\n",
        "  if output_path:\n",
        "    df.to_csv(output_path)\n",
        "  return df"
      ],
      "metadata": {
        "id": "1L5e4oIvIib4"
      },
      "execution_count": 9,
      "outputs": []
    },
    {
      "cell_type": "code",
      "source": [
        "df = clean_data_labels('/content/eval_segments_reg_clean.csv', '/content/ontology.json')"
      ],
      "metadata": {
        "id": "7a8edQDBK0Zd"
      },
      "execution_count": 10,
      "outputs": []
    },
    {
      "cell_type": "code",
      "source": [
        "timestamps = {row['# YTID']: (row[' start_seconds'], row[' end_seconds']) for i, row in df.iterrows()}"
      ],
      "metadata": {
        "id": "8kfNPuFwz6Hb"
      },
      "execution_count": 25,
      "outputs": []
    },
    {
      "cell_type": "code",
      "source": [
        "def cleaning(label):\n",
        "  label = label.replace('\"', '').replace(' ', '')\n",
        "  return ';'.join([clean[i] for i in label.split(';')])"
      ],
      "metadata": {
        "id": "OFcFO7KAAgSv"
      },
      "execution_count": 3,
      "outputs": []
    },
    {
      "cell_type": "code",
      "source": [
        "!pip install yt_dlp"
      ],
      "metadata": {
        "colab": {
          "base_uri": "https://localhost:8080/"
        },
        "id": "raXPBc-QKNZT",
        "outputId": "0ecc2856-07bd-4338-ec53-b1f608a65765"
      },
      "execution_count": 14,
      "outputs": [
        {
          "output_type": "stream",
          "name": "stdout",
          "text": [
            "Collecting yt_dlp\n",
            "  Downloading yt_dlp-2024.11.18-py3-none-any.whl.metadata (172 kB)\n",
            "\u001b[?25l     \u001b[90m━━━━━━━━━━━━━━━━━━━━━━━━━━━━━━━━━━━━━━━━\u001b[0m \u001b[32m0.0/172.1 kB\u001b[0m \u001b[31m?\u001b[0m eta \u001b[36m-:--:--\u001b[0m\r\u001b[2K     \u001b[91m━━━━━━━━━━━━━━━━━━━━━━━━━━━━━━━━━━━━━━\u001b[0m\u001b[90m╺\u001b[0m\u001b[90m━\u001b[0m \u001b[32m163.8/172.1 kB\u001b[0m \u001b[31m6.3 MB/s\u001b[0m eta \u001b[36m0:00:01\u001b[0m\r\u001b[2K     \u001b[90m━━━━━━━━━━━━━━━━━━━━━━━━━━━━━━━━━━━━━━━━\u001b[0m \u001b[32m172.1/172.1 kB\u001b[0m \u001b[31m4.4 MB/s\u001b[0m eta \u001b[36m0:00:00\u001b[0m\n",
            "\u001b[?25hDownloading yt_dlp-2024.11.18-py3-none-any.whl (3.2 MB)\n",
            "\u001b[2K   \u001b[90m━━━━━━━━━━━━━━━━━━━━━━━━━━━━━━━━━━━━━━━━\u001b[0m \u001b[32m3.2/3.2 MB\u001b[0m \u001b[31m46.8 MB/s\u001b[0m eta \u001b[36m0:00:00\u001b[0m\n",
            "\u001b[?25hInstalling collected packages: yt_dlp\n",
            "Successfully installed yt_dlp-2024.11.18\n"
          ]
        }
      ]
    },
    {
      "cell_type": "code",
      "source": [
        "import pandas as pd\n",
        "from yt_dlp import YoutubeDL\n",
        "from bs4 import BeautifulSoup"
      ],
      "metadata": {
        "id": "BZA8OYqOKAyz"
      },
      "execution_count": 15,
      "outputs": []
    },
    {
      "cell_type": "code",
      "source": [
        "YOUTUBE_URL_PREFIX = \"https://www.youtube.com/watch?v=\"\n",
        "\n",
        "def download_video(video_url,i):\n",
        "    opts = {'paths': {'home': f'downloads{i}'}}\n",
        "    with YoutubeDL(opts) as yt:\n",
        "        yt.download(video_url)"
      ],
      "metadata": {
        "id": "yHAzfWfGLboy"
      },
      "execution_count": 4,
      "outputs": []
    },
    {
      "cell_type": "code",
      "source": [
        "def download_column(yt_ids, i, stop=None):\n",
        "    # If stop is None, set it to the length of yt_ids\n",
        "    stop = len(yt_ids) if stop is None else stop\n",
        "\n",
        "    # Iterate through the specified number of items\n",
        "    for yt_id in yt_ids[:stop]:\n",
        "        download_video(YOUTUBE_URL_PREFIX + yt_id, i)"
      ],
      "metadata": {
        "id": "FDwgH5elPad1"
      },
      "execution_count": 5,
      "outputs": []
    },
    {
      "cell_type": "code",
      "source": [
        "from moviepy.video.io.ffmpeg_tools import ffmpeg_extract_subclip\n",
        "#ffmpeg_extract_subclip(\"/content/downloads/Come Mettere La Matita Nera [-0nqfRcnAYE].mp4\", 0, 10)"
      ],
      "metadata": {
        "colab": {
          "base_uri": "https://localhost:8080/",
          "height": 807
        },
        "id": "PnKJtPEcMQVe",
        "outputId": "e9c66dc0-d869-4213-893e-803b504601b8"
      },
      "execution_count": 30,
      "outputs": [
        {
          "output_type": "stream",
          "name": "stdout",
          "text": [
            "Moviepy - Running:\n",
            ">>> \"+ \" \".join(cmd)\n",
            "Moviepy - Command returned an error\n"
          ]
        },
        {
          "output_type": "error",
          "ename": "OSError",
          "evalue": "ffmpeg version 4.2.2-static https://johnvansickle.com/ffmpeg/  Copyright (c) 2000-2019 the FFmpeg developers\n  built with gcc 8 (Debian 8.3.0-6)\n  configuration: --enable-gpl --enable-version3 --enable-static --disable-debug --disable-ffplay --disable-indev=sndio --disable-outdev=sndio --cc=gcc --enable-fontconfig --enable-frei0r --enable-gnutls --enable-gmp --enable-libgme --enable-gray --enable-libaom --enable-libfribidi --enable-libass --enable-libvmaf --enable-libfreetype --enable-libmp3lame --enable-libopencore-amrnb --enable-libopencore-amrwb --enable-libopenjpeg --enable-librubberband --enable-libsoxr --enable-libspeex --enable-libsrt --enable-libvorbis --enable-libopus --enable-libtheora --enable-libvidstab --enable-libvo-amrwbenc --enable-libvpx --enable-libwebp --enable-libx264 --enable-libx265 --enable-libxml2 --enable-libdav1d --enable-libxvid --enable-libzvbi --enable-libzimg\n  libavutil      56. 31.100 / 56. 31.100\n  libavcodec     58. 54.100 / 58. 54.100\n  libavformat    58. 29.100 / 58. 29.100\n  libavdevice    58.  8.100 / 58.  8.100\n  libavfilter     7. 57.100 /  7. 57.100\n  libswscale      5.  5.100 /  5.  5.100\n  libswresample   3.  5.100 /  3.  5.100\n  libpostproc    55.  5.100 / 55.  5.100\n/content/downloads/Come Mettere La Matita Nera [-0nqfRcnAYE].mp4: No such file or directory\n",
          "traceback": [
            "\u001b[0;31m---------------------------------------------------------------------------\u001b[0m",
            "\u001b[0;31mOSError\u001b[0m                                   Traceback (most recent call last)",
            "\u001b[0;32m<ipython-input-30-7fec2050e8cc>\u001b[0m in \u001b[0;36m<cell line: 2>\u001b[0;34m()\u001b[0m\n\u001b[1;32m      1\u001b[0m \u001b[0;32mfrom\u001b[0m \u001b[0mmoviepy\u001b[0m\u001b[0;34m.\u001b[0m\u001b[0mvideo\u001b[0m\u001b[0;34m.\u001b[0m\u001b[0mio\u001b[0m\u001b[0;34m.\u001b[0m\u001b[0mffmpeg_tools\u001b[0m \u001b[0;32mimport\u001b[0m \u001b[0mffmpeg_extract_subclip\u001b[0m\u001b[0;34m\u001b[0m\u001b[0;34m\u001b[0m\u001b[0m\n\u001b[0;32m----> 2\u001b[0;31m \u001b[0mffmpeg_extract_subclip\u001b[0m\u001b[0;34m(\u001b[0m\u001b[0;34m\"/content/downloads/Come Mettere La Matita Nera [-0nqfRcnAYE].mp4\"\u001b[0m\u001b[0;34m,\u001b[0m \u001b[0;36m0\u001b[0m\u001b[0;34m,\u001b[0m \u001b[0;36m10\u001b[0m\u001b[0;34m)\u001b[0m\u001b[0;34m\u001b[0m\u001b[0;34m\u001b[0m\u001b[0m\n\u001b[0m",
            "\u001b[0;32m/usr/local/lib/python3.10/dist-packages/moviepy/video/io/ffmpeg_tools.py\u001b[0m in \u001b[0;36mffmpeg_extract_subclip\u001b[0;34m(filename, t1, t2, targetname)\u001b[0m\n\u001b[1;32m     39\u001b[0m            \"-map\", \"0\", \"-vcodec\", \"copy\", \"-acodec\", \"copy\", targetname]\n\u001b[1;32m     40\u001b[0m \u001b[0;34m\u001b[0m\u001b[0m\n\u001b[0;32m---> 41\u001b[0;31m     \u001b[0msubprocess_call\u001b[0m\u001b[0;34m(\u001b[0m\u001b[0mcmd\u001b[0m\u001b[0;34m)\u001b[0m\u001b[0;34m\u001b[0m\u001b[0;34m\u001b[0m\u001b[0m\n\u001b[0m\u001b[1;32m     42\u001b[0m \u001b[0;34m\u001b[0m\u001b[0m\n\u001b[1;32m     43\u001b[0m \u001b[0;34m\u001b[0m\u001b[0m\n",
            "\u001b[0;32m/usr/local/lib/python3.10/dist-packages/moviepy/tools.py\u001b[0m in \u001b[0;36msubprocess_call\u001b[0;34m(cmd, logger, errorprint)\u001b[0m\n\u001b[1;32m     52\u001b[0m         \u001b[0;32mif\u001b[0m \u001b[0merrorprint\u001b[0m\u001b[0;34m:\u001b[0m\u001b[0;34m\u001b[0m\u001b[0;34m\u001b[0m\u001b[0m\n\u001b[1;32m     53\u001b[0m             \u001b[0mlogger\u001b[0m\u001b[0;34m(\u001b[0m\u001b[0mmessage\u001b[0m\u001b[0;34m=\u001b[0m\u001b[0;34m'Moviepy - Command returned an error'\u001b[0m\u001b[0;34m)\u001b[0m\u001b[0;34m\u001b[0m\u001b[0;34m\u001b[0m\u001b[0m\n\u001b[0;32m---> 54\u001b[0;31m         \u001b[0;32mraise\u001b[0m \u001b[0mIOError\u001b[0m\u001b[0;34m(\u001b[0m\u001b[0merr\u001b[0m\u001b[0;34m.\u001b[0m\u001b[0mdecode\u001b[0m\u001b[0;34m(\u001b[0m\u001b[0;34m'utf8'\u001b[0m\u001b[0;34m)\u001b[0m\u001b[0;34m)\u001b[0m\u001b[0;34m\u001b[0m\u001b[0;34m\u001b[0m\u001b[0m\n\u001b[0m\u001b[1;32m     55\u001b[0m     \u001b[0;32melse\u001b[0m\u001b[0;34m:\u001b[0m\u001b[0;34m\u001b[0m\u001b[0;34m\u001b[0m\u001b[0m\n\u001b[1;32m     56\u001b[0m         \u001b[0mlogger\u001b[0m\u001b[0;34m(\u001b[0m\u001b[0mmessage\u001b[0m\u001b[0;34m=\u001b[0m\u001b[0;34m'Moviepy - Command successful'\u001b[0m\u001b[0;34m)\u001b[0m\u001b[0;34m\u001b[0m\u001b[0;34m\u001b[0m\u001b[0m\n",
            "\u001b[0;31mOSError\u001b[0m: ffmpeg version 4.2.2-static https://johnvansickle.com/ffmpeg/  Copyright (c) 2000-2019 the FFmpeg developers\n  built with gcc 8 (Debian 8.3.0-6)\n  configuration: --enable-gpl --enable-version3 --enable-static --disable-debug --disable-ffplay --disable-indev=sndio --disable-outdev=sndio --cc=gcc --enable-fontconfig --enable-frei0r --enable-gnutls --enable-gmp --enable-libgme --enable-gray --enable-libaom --enable-libfribidi --enable-libass --enable-libvmaf --enable-libfreetype --enable-libmp3lame --enable-libopencore-amrnb --enable-libopencore-amrwb --enable-libopenjpeg --enable-librubberband --enable-libsoxr --enable-libspeex --enable-libsrt --enable-libvorbis --enable-libopus --enable-libtheora --enable-libvidstab --enable-libvo-amrwbenc --enable-libvpx --enable-libwebp --enable-libx264 --enable-libx265 --enable-libxml2 --enable-libdav1d --enable-libxvid --enable-libzvbi --enable-libzimg\n  libavutil      56. 31.100 / 56. 31.100\n  libavcodec     58. 54.100 / 58. 54.100\n  libavformat    58. 29.100 / 58. 29.100\n  libavdevice    58.  8.100 / 58.  8.100\n  libavfilter     7. 57.100 /  7. 57.100\n  libswscale      5.  5.100 /  5.  5.100\n  libswresample   3.  5.100 /  3.  5.100\n  libpostproc    55.  5.100 / 55.  5.100\n/content/downloads/Come Mettere La Matita Nera [-0nqfRcnAYE].mp4: No such file or directory\n"
          ]
        }
      ]
    },
    {
      "cell_type": "code",
      "source": [
        "'''from Katna.video import Video\n",
        "from Katna.writer import KeyFrameDiskWriter\n",
        "import os\n",
        "\n",
        "# For windows, the below if condition is must.\n",
        "if __name__ == \"__main__\":\n",
        "\n",
        "  # initialize video module\n",
        "  vd = Video()\n",
        "\n",
        "  # number of images to be returned\n",
        "  no_of_frames_to_returned = 10\n",
        "\n",
        "  # initialize diskwriter to save data at desired location\n",
        "  diskwriter = KeyFrameDiskWriter(location=\"selectedframes\")\n",
        "\n",
        "  # Video file path\n",
        "  video_file_path = \"/content/downloads/VELHO DA TOSSE.wmv [--U7joUcTCo].mp4\"\n",
        "\n",
        "  print(f\"Input video file path = {video_file_path}\")\n",
        "\n",
        "  # extract keyframes and process data with diskwriter\n",
        "  vd.extract_video_keyframes(\n",
        "       no_of_frames=no_of_frames_to_returned, file_path=video_file_path,\n",
        "       writer=diskwriter\n",
        "  )\n",
        "'''"
      ],
      "metadata": {
        "colab": {
          "base_uri": "https://localhost:8080/"
        },
        "id": "FKX4w0zJM1Gk",
        "outputId": "9ef0a679-d76a-45cf-8fae-c680949f327e"
      },
      "execution_count": null,
      "outputs": [
        {
          "output_type": "stream",
          "name": "stdout",
          "text": [
            "Input video file path = /content/downloads/VELHO DA TOSSE.wmv [--U7joUcTCo].mp4\n",
            "Completed processing for :  /content/downloads/VELHO DA TOSSE.wmv [--U7joUcTCo].mp4\n"
          ]
        }
      ]
    },
    {
      "cell_type": "code",
      "source": [
        "import subprocess\n",
        "\n",
        "def get_audio(id):\n",
        "  for filename in os.listdir(f'downloads{id}'):\n",
        "    root, extension = os.path.splitext(filename)\n",
        "    command = [\n",
        "      'ffmpeg',\n",
        "      '-i', f'downloads{id}/{filename}',  # Input file\n",
        "      '-q:a', '0',  # Video filter: scale to 720p\n",
        "      '-map', 'a',\n",
        "      f'audio/{root}.wav'  # Output file\n",
        "    ]\n",
        "    print(command)\n",
        "    subprocess.run(command)"
      ],
      "metadata": {
        "id": "ON8qrvYJ6mRT"
      },
      "execution_count": 6,
      "outputs": []
    },
    {
      "cell_type": "code",
      "source": [
        "import re"
      ],
      "metadata": {
        "id": "n_P9Eual3ACa"
      },
      "execution_count": 23,
      "outputs": []
    },
    {
      "cell_type": "code",
      "source": [
        "def extract_youtube_ids(filename):\n",
        "    \"\"\"\n",
        "    Extracts YouTube video IDs from a list of filenames.\n",
        "\n",
        "    Args:\n",
        "        filenames (list of str): List of filenames containing YouTube IDs.\n",
        "\n",
        "    Returns:\n",
        "        list of str: Extracted YouTube IDs.\n",
        "    \"\"\"\n",
        "    pattern = r'\\[([-_\\w]{11})\\]'  # Matches square brackets with 11-character YouTube IDs\n",
        "\n",
        "    match = re.search(pattern, filename)\n",
        "    if match:\n",
        "      return (match.group(1))\n",
        "    return ''"
      ],
      "metadata": {
        "id": "5jzoo8O-2sFl"
      },
      "execution_count": 21,
      "outputs": []
    },
    {
      "cell_type": "code",
      "source": [
        "import os"
      ],
      "metadata": {
        "id": "jbe1EyDFKD2V"
      },
      "execution_count": 19,
      "outputs": []
    },
    {
      "cell_type": "code",
      "source": [
        "def get_clips(yt_ids, id):\n",
        "  filenames = [file for file in os.listdir(f'downloads{id}')]\n",
        "  title_to_id = {filename : extract_youtube_ids(filename) for filename in filenames}\n",
        "  for filename in filenames:\n",
        "    root, extension = os.path.splitext(filename)\n",
        "    video_id = title_to_id[filename]\n",
        "    ffmpeg_extract_subclip(f'downloads{id}/{filename}', timestamps[video_id][0], timestamps[video_id][1])\n",
        "    os.remove(f\"downloads{id}/{filename}\")"
      ],
      "metadata": {
        "id": "y_jX_WgT1Rv2"
      },
      "execution_count": 17,
      "outputs": []
    },
    {
      "cell_type": "code",
      "source": [
        "import os\n",
        "import pandas as pd\n",
        "import numpy as np\n",
        "\n",
        "# Example DataFrame\n",
        "\n",
        "\n",
        "# Number of chunks\n",
        "n_chunks = 3\n",
        "\n",
        "# Split into chunks\n",
        "chunks = np.array_split(df.head(6), n_chunks)\n",
        "\n",
        "\n",
        "def process_chunck(df, id):\n",
        "  yt_ids = df['# YTID']\n",
        "  download_column(yt_ids, id)\n",
        "  get_clips(yt_ids, id)\n",
        "  get_audio(id)\n",
        "\n",
        "\n",
        "# Each chunk is a DataFrame\n",
        "for i, chunk in enumerate(chunks):\n",
        "  process_chunck(chunk, i)\n",
        ""
      ],
      "metadata": {
        "colab": {
          "base_uri": "https://localhost:8080/"
        },
        "id": "Kmpdb9hUB_Wo",
        "outputId": "292da4a7-c68d-443e-83e8-e84262e7a80e"
      },
      "execution_count": 29,
      "outputs": [
        {
          "output_type": "stream",
          "name": "stdout",
          "text": [
            "[youtube] Extracting URL: https://www.youtube.com/watch?v=--4gqARaEJE\n",
            "[youtube] --4gqARaEJE: Downloading webpage\n"
          ]
        },
        {
          "output_type": "stream",
          "name": "stderr",
          "text": [
            "/usr/local/lib/python3.10/dist-packages/numpy/core/fromnumeric.py:59: FutureWarning: 'DataFrame.swapaxes' is deprecated and will be removed in a future version. Please use 'DataFrame.transpose' instead.\n",
            "  return bound(*args, **kwds)\n"
          ]
        },
        {
          "output_type": "stream",
          "name": "stdout",
          "text": [
            "[youtube] --4gqARaEJE: Downloading ios player API JSON\n",
            "[youtube] --4gqARaEJE: Downloading mweb player API JSON\n",
            "[youtube] --4gqARaEJE: Downloading m3u8 information\n",
            "[info] --4gqARaEJE: Downloading 1 format(s): 136+251\n",
            "[download] Destination: downloads0/Miniature, Standard, Teacup Dachshund, Puppies, For, Sale, In, New Jersey, NJ, PA, DE, MD,CT [--4gqARaEJE].f136.mp4\n",
            "[download] 100% of    7.92MiB in 00:00:00 at 14.45MiB/s  \n",
            "[download] Destination: downloads0/Miniature, Standard, Teacup Dachshund, Puppies, For, Sale, In, New Jersey, NJ, PA, DE, MD,CT [--4gqARaEJE].f251.webm\n",
            "[download] 100% of  774.71KiB in 00:00:00 at 3.78MiB/s   \n",
            "[Merger] Merging formats into \"downloads0/Miniature, Standard, Teacup Dachshund, Puppies, For, Sale, In, New Jersey, NJ, PA, DE, MD,CT [--4gqARaEJE].mkv\"\n",
            "Deleting original file downloads0/Miniature, Standard, Teacup Dachshund, Puppies, For, Sale, In, New Jersey, NJ, PA, DE, MD,CT [--4gqARaEJE].f251.webm (pass -k to keep)\n",
            "Deleting original file downloads0/Miniature, Standard, Teacup Dachshund, Puppies, For, Sale, In, New Jersey, NJ, PA, DE, MD,CT [--4gqARaEJE].f136.mp4 (pass -k to keep)\n",
            "[youtube] Extracting URL: https://www.youtube.com/watch?v=--BfvyPmVMo\n",
            "[youtube] --BfvyPmVMo: Downloading webpage\n",
            "[youtube] --BfvyPmVMo: Downloading ios player API JSON\n",
            "[youtube] --BfvyPmVMo: Downloading mweb player API JSON\n",
            "[youtube] --BfvyPmVMo: Downloading m3u8 information\n",
            "[info] --BfvyPmVMo: Downloading 1 format(s): 135+140\n",
            "[download] Destination: downloads0/Vehicle Alignments [--BfvyPmVMo].f135.mp4\n",
            "[download] 100% of   10.79MiB in 00:00:00 at 10.82MiB/s  \n",
            "[download] Destination: downloads0/Vehicle Alignments [--BfvyPmVMo].f140.m4a\n",
            "[download] 100% of    3.12MiB in 00:00:00 at 10.62MiB/s  \n",
            "[Merger] Merging formats into \"downloads0/Vehicle Alignments [--BfvyPmVMo].mp4\"\n",
            "Deleting original file downloads0/Vehicle Alignments [--BfvyPmVMo].f140.m4a (pass -k to keep)\n",
            "Deleting original file downloads0/Vehicle Alignments [--BfvyPmVMo].f135.mp4 (pass -k to keep)\n",
            "Moviepy - Running:\n",
            ">>> \"+ \" \".join(cmd)\n",
            "Moviepy - Command successful\n",
            "Moviepy - Running:\n",
            ">>> \"+ \" \".join(cmd)\n",
            "Moviepy - Command successful\n",
            "Moviepy - Running:\n",
            ">>> \"+ \" \".join(cmd)\n",
            "Moviepy - Command successful\n",
            "Moviepy - Running:\n",
            ">>> \"+ \" \".join(cmd)\n",
            "Moviepy - Command successful\n",
            "['ffmpeg', '-i', 'downloads0/Miniature, Standard, Teacup Dachshund, Puppies, For, Sale, In, New Jersey, NJ, PA, DE, MD,CT [--4gqARaEJE]SUB0_10000..mkv', '-q:a', '0', '-map', 'a', 'audio/Miniature, Standard, Teacup Dachshund, Puppies, For, Sale, In, New Jersey, NJ, PA, DE, MD,CT [--4gqARaEJE]SUB0_10000..wav']\n",
            "['ffmpeg', '-i', 'downloads0/Miniature, Standard, Teacup Dachshund, Puppies, For, Sale, In, New Jersey, NJ, PA, DE, MD,CT [--4gqARaEJE]SUB0_10000.SUB0_10000..mkv', '-q:a', '0', '-map', 'a', 'audio/Miniature, Standard, Teacup Dachshund, Puppies, For, Sale, In, New Jersey, NJ, PA, DE, MD,CT [--4gqARaEJE]SUB0_10000.SUB0_10000..wav']\n",
            "['ffmpeg', '-i', 'downloads0/Vehicle Alignments [--BfvyPmVMo]SUB20000_30000.SUB20000_30000..mp4', '-q:a', '0', '-map', 'a', 'audio/Vehicle Alignments [--BfvyPmVMo]SUB20000_30000.SUB20000_30000..wav']\n",
            "['ffmpeg', '-i', 'downloads0/Vehicle Alignments [--BfvyPmVMo]SUB20000_30000..mp4', '-q:a', '0', '-map', 'a', 'audio/Vehicle Alignments [--BfvyPmVMo]SUB20000_30000..wav']\n",
            "[youtube] Extracting URL: https://www.youtube.com/watch?v=--U7joUcTCo\n",
            "[youtube] --U7joUcTCo: Downloading webpage\n",
            "[youtube] --U7joUcTCo: Downloading ios player API JSON\n",
            "[youtube] --U7joUcTCo: Downloading mweb player API JSON\n",
            "[youtube] --U7joUcTCo: Downloading m3u8 information\n",
            "[info] --U7joUcTCo: Downloading 1 format(s): 136+140\n",
            "[download] Destination: downloads1/VELHO DA TOSSE.wmv [--U7joUcTCo].f136.mp4\n",
            "[download] 100% of    1.06MiB in 00:00:00 at 3.80MiB/s   \n",
            "[download] Destination: downloads1/VELHO DA TOSSE.wmv [--U7joUcTCo].f140.m4a\n",
            "[download] 100% of  147.08KiB in 00:00:00 at 933.94KiB/s \n",
            "[Merger] Merging formats into \"downloads1/VELHO DA TOSSE.wmv [--U7joUcTCo].mp4\"\n",
            "Deleting original file downloads1/VELHO DA TOSSE.wmv [--U7joUcTCo].f136.mp4 (pass -k to keep)\n",
            "Deleting original file downloads1/VELHO DA TOSSE.wmv [--U7joUcTCo].f140.m4a (pass -k to keep)\n",
            "[youtube] Extracting URL: https://www.youtube.com/watch?v=-0BIyqJj9ZU\n",
            "[youtube] -0BIyqJj9ZU: Downloading webpage\n",
            "[youtube] -0BIyqJj9ZU: Downloading ios player API JSON\n",
            "[youtube] -0BIyqJj9ZU: Downloading mweb player API JSON\n",
            "[youtube] -0BIyqJj9ZU: Downloading m3u8 information\n",
            "[info] -0BIyqJj9ZU: Downloading 1 format(s): 18\n",
            "[download] Destination: downloads1/Risate a catena (Skype Laughter Chain) [-0BIyqJj9ZU].mp4\n",
            "[download] 100% of    9.84MiB in 00:00:01 at 7.89MiB/s   \n",
            "Moviepy - Running:\n",
            ">>> \"+ \" \".join(cmd)\n",
            "Moviepy - Command successful\n",
            "Moviepy - Running:\n",
            ">>> \"+ \" \".join(cmd)\n",
            "Moviepy - Command successful\n",
            "['ffmpeg', '-i', 'downloads1/Risate a catena (Skype Laughter Chain) [-0BIyqJj9ZU]SUB30000_40000..mp4', '-q:a', '0', '-map', 'a', 'audio/Risate a catena (Skype Laughter Chain) [-0BIyqJj9ZU]SUB30000_40000..wav']\n",
            "['ffmpeg', '-i', 'downloads1/VELHO DA TOSSE.wmv [--U7joUcTCo]SUB0_10000..mp4', '-q:a', '0', '-map', 'a', 'audio/VELHO DA TOSSE.wmv [--U7joUcTCo]SUB0_10000..wav']\n",
            "[youtube] Extracting URL: https://www.youtube.com/watch?v=-0RWZT-miFs\n",
            "[youtube] -0RWZT-miFs: Downloading webpage\n",
            "[youtube] -0RWZT-miFs: Downloading ios player API JSON\n",
            "[youtube] -0RWZT-miFs: Downloading mweb player API JSON\n",
            "[youtube] -0RWZT-miFs: Downloading m3u8 information\n",
            "[info] -0RWZT-miFs: Downloading 1 format(s): 136+140\n",
            "[download] Destination: downloads2/ONE LAST SPECIAL GIFT!! [-0RWZT-miFs].f136.mp4\n",
            "[download] 100% of  151.55MiB in 00:00:05 at 29.61MiB/s  \n",
            "[download] Destination: downloads2/ONE LAST SPECIAL GIFT!! [-0RWZT-miFs].f140.m4a\n",
            "[download] 100% of   11.86MiB in 00:00:00 at 22.80MiB/s  \n",
            "[Merger] Merging formats into \"downloads2/ONE LAST SPECIAL GIFT!! [-0RWZT-miFs].mp4\"\n",
            "Deleting original file downloads2/ONE LAST SPECIAL GIFT!! [-0RWZT-miFs].f140.m4a (pass -k to keep)\n",
            "Deleting original file downloads2/ONE LAST SPECIAL GIFT!! [-0RWZT-miFs].f136.mp4 (pass -k to keep)\n",
            "[youtube] Extracting URL: https://www.youtube.com/watch?v=-0nqfRcnAYE\n",
            "[youtube] -0nqfRcnAYE: Downloading webpage\n",
            "[youtube] -0nqfRcnAYE: Downloading ios player API JSON\n",
            "[youtube] -0nqfRcnAYE: Downloading mweb player API JSON\n",
            "[youtube] -0nqfRcnAYE: Downloading m3u8 information\n",
            "[info] -0nqfRcnAYE: Downloading 1 format(s): 135+140\n",
            "[download] Destination: downloads2/Come Mettere La Matita Nera [-0nqfRcnAYE].f135.mp4\n",
            "[download] 100% of   22.40MiB in 00:00:02 at 9.81MiB/s   \n",
            "[download] Destination: downloads2/Come Mettere La Matita Nera [-0nqfRcnAYE].f140.m4a\n",
            "[download] 100% of   10.18MiB in 00:00:00 at 26.41MiB/s  \n",
            "[Merger] Merging formats into \"downloads2/Come Mettere La Matita Nera [-0nqfRcnAYE].mp4\"\n",
            "Deleting original file downloads2/Come Mettere La Matita Nera [-0nqfRcnAYE].f135.mp4 (pass -k to keep)\n",
            "Deleting original file downloads2/Come Mettere La Matita Nera [-0nqfRcnAYE].f140.m4a (pass -k to keep)\n",
            "Moviepy - Running:\n",
            ">>> \"+ \" \".join(cmd)\n",
            "Moviepy - Command successful\n",
            "Moviepy - Running:\n",
            ">>> \"+ \" \".join(cmd)\n",
            "Moviepy - Command successful\n",
            "['ffmpeg', '-i', 'downloads2/Come Mettere La Matita Nera [-0nqfRcnAYE]SUB370000_380000..mp4', '-q:a', '0', '-map', 'a', 'audio/Come Mettere La Matita Nera [-0nqfRcnAYE]SUB370000_380000..wav']\n",
            "['ffmpeg', '-i', 'downloads2/ONE LAST SPECIAL GIFT!! [-0RWZT-miFs]SUB420000_430000..mp4', '-q:a', '0', '-map', 'a', 'audio/ONE LAST SPECIAL GIFT!! [-0RWZT-miFs]SUB420000_430000..wav']\n"
          ]
        }
      ]
    }
  ]
}