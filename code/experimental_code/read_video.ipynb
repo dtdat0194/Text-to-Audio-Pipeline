{
 "cells": [
  {
   "cell_type": "code",
   "execution_count": 1,
   "metadata": {},
   "outputs": [],
   "source": [
    "import cv2\n",
    "import numpy as np"
   ]
  },
  {
   "cell_type": "code",
   "execution_count": 2,
   "metadata": {},
   "outputs": [
    {
     "name": "stdout",
     "output_type": "stream",
     "text": [
      "(259, 360, 360, 3)\n"
     ]
    }
   ],
   "source": [
    "# read video frames into numpy array\n",
    "\n",
    "frames = []\n",
    "\n",
    "path = \"Mackenzie ziegler singing  drunk in love rare [--i-y1v8Hy8].mp4\"\n",
    "video_name = path[:len(path) - 4]\n",
    "cap = cv2.VideoCapture(path)\n",
    "ret = True\n",
    "while ret:\n",
    "    ret, img = cap.read()\n",
    "    if ret:\n",
    "        frames.append(img)\n",
    "video = np.stack(frames, axis=0)\n",
    "print(np.shape(video))"
   ]
  },
  {
   "cell_type": "code",
   "execution_count": 3,
   "metadata": {},
   "outputs": [
    {
     "data": {
      "text/plain": [
       "4294967294"
      ]
     },
     "execution_count": 3,
     "metadata": {},
     "output_type": "execute_result"
    }
   ],
   "source": [
    "# extract audio from downloaded video (below code doesn't work)\n",
    "import subprocess\n",
    "\n",
    "command = f\"ffmpeg -i C:/{path} -ab 160k -ac 2 -ar 44100 -vn {video_name}.wav\"\n",
    "\n",
    "subprocess.call(command, shell=True)"
   ]
  }
 ],
 "metadata": {
  "kernelspec": {
   "display_name": "Python 3",
   "language": "python",
   "name": "python3"
  },
  "language_info": {
   "codemirror_mode": {
    "name": "ipython",
    "version": 3
   },
   "file_extension": ".py",
   "mimetype": "text/x-python",
   "name": "python",
   "nbconvert_exporter": "python",
   "pygments_lexer": "ipython3",
   "version": "3.11.3"
  }
 },
 "nbformat": 4,
 "nbformat_minor": 2
}
